{
  "cells": [
    {
      "cell_type": "code",
      "execution_count": 3,
      "id": "9bef397f",
      "metadata": {
        "id": "9bef397f"
      },
      "outputs": [],
      "source": [
        "import pandas as pd\n",
        "import glob\n",
        "import os"
      ]
    },
    {
      "cell_type": "code",
      "source": [
        "## If you are using the data by mounting the google drive, use the following :\n",
        "from google.colab import drive\n",
        "drive.mount('/content/gdrive',  force_remount=False)\n",
        "%cd /content/gdrive/MyDrive/FinalThesis/Final_Data"
      ],
      "metadata": {
        "colab": {
          "base_uri": "https://localhost:8080/"
        },
        "id": "DDRp-FNYL9nZ",
        "outputId": "81a4c2c2-fdea-4dd5-9ec4-4ff5775773d1"
      },
      "id": "DDRp-FNYL9nZ",
      "execution_count": 4,
      "outputs": [
        {
          "output_type": "stream",
          "name": "stdout",
          "text": [
            "Mounted at /content/gdrive\n",
            "/content/gdrive/MyDrive/FinalThesis/Final_Data\n"
          ]
        }
      ]
    },
    {
      "cell_type": "code",
      "execution_count": 5,
      "id": "03fd1c37",
      "metadata": {
        "id": "03fd1c37"
      },
      "outputs": [],
      "source": [
        "# data = pd.read_csv('finbert_compound_score_fin.csv')\n",
        "data = pd.read_csv('roberta_compound_score_fin.csv')"
      ]
    },
    {
      "cell_type": "code",
      "execution_count": 6,
      "id": "619a391b",
      "metadata": {
        "id": "619a391b",
        "colab": {
          "base_uri": "https://localhost:8080/"
        },
        "outputId": "4bfe5ee6-23e4-4091-cb6c-f0f3819e49de"
      },
      "outputs": [
        {
          "output_type": "execute_result",
          "data": {
            "text/plain": [
              "(1048570, 5)"
            ]
          },
          "metadata": {},
          "execution_count": 6
        }
      ],
      "source": [
        "data.shape"
      ]
    },
    {
      "cell_type": "code",
      "execution_count": 7,
      "id": "4689e0ed",
      "metadata": {
        "id": "4689e0ed"
      },
      "outputs": [],
      "source": [
        "#data.head()"
      ]
    },
    {
      "cell_type": "code",
      "execution_count": 8,
      "id": "b66e1aba",
      "metadata": {
        "id": "b66e1aba"
      },
      "outputs": [],
      "source": [
        "data = data.sort_values(by='date_time')\n",
        "data_f = data.drop('clean_text', axis = 1)\n",
        "data_f['date'] = pd.to_datetime(data_f['date_time'], format='%Y-%m-%d').dt.floor('D')\n",
        "data_f = data_f.drop(['date_time'], axis=1)\n",
        "data_g = data_f.groupby('date').mean()\n",
        "data_c = data_g.reset_index()"
      ]
    },
    {
      "cell_type": "code",
      "execution_count": 9,
      "id": "f4ced389",
      "metadata": {
        "id": "f4ced389"
      },
      "outputs": [],
      "source": [
        "#data.head()"
      ]
    },
    {
      "cell_type": "code",
      "execution_count": 10,
      "id": "0163d8b2",
      "metadata": {
        "id": "0163d8b2"
      },
      "outputs": [],
      "source": [
        "#data_f.dtypes"
      ]
    },
    {
      "cell_type": "code",
      "execution_count": 11,
      "id": "90feccc5",
      "metadata": {
        "id": "90feccc5"
      },
      "outputs": [],
      "source": [
        "data_c['compound_score'] = (-data_c['negative'] + data_c['positive']) / (data_c['neutral'] + data_c['negative'] + data_c['positive'])"
      ]
    },
    {
      "cell_type": "code",
      "execution_count": 12,
      "id": "37753850",
      "metadata": {
        "id": "37753850"
      },
      "outputs": [],
      "source": [
        "data_c =data_c.round(4)"
      ]
    },
    {
      "cell_type": "code",
      "execution_count": 13,
      "id": "72900282",
      "metadata": {
        "id": "72900282"
      },
      "outputs": [],
      "source": [
        "#data_c.to_csv(\"finbert_aggregated.csv\", index=False)\n",
        "data_c.to_csv(\"roberta_aggregated.csv\", index=False)"
      ]
    }
  ],
  "metadata": {
    "kernelspec": {
      "display_name": "Python 3 (ipykernel)",
      "language": "python",
      "name": "python3"
    },
    "language_info": {
      "codemirror_mode": {
        "name": "ipython",
        "version": 3
      },
      "file_extension": ".py",
      "mimetype": "text/x-python",
      "name": "python",
      "nbconvert_exporter": "python",
      "pygments_lexer": "ipython3",
      "version": "3.9.12"
    },
    "colab": {
      "provenance": []
    }
  },
  "nbformat": 4,
  "nbformat_minor": 5
}