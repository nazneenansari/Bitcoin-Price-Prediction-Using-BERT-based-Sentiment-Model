{
  "cells": [
    {
      "cell_type": "code",
      "execution_count": null,
      "metadata": {
        "id": "9jJeTTQP-Cs2"
      },
      "outputs": [],
      "source": [
        "#pip install dask"
      ]
    },
    {
      "cell_type": "code",
      "execution_count": null,
      "metadata": {
        "colab": {
          "base_uri": "https://localhost:8080/"
        },
        "id": "3mp-6SacIzWP",
        "outputId": "90728188-cec2-4c0c-a029-25b667216f20"
      },
      "outputs": [
        {
          "name": "stderr",
          "output_type": "stream",
          "text": [
            "[nltk_data] Downloading package stopwords to /home/nltk_data...\n",
            "[nltk_data]   Package stopwords is already up-to-date!\n"
          ]
        }
      ],
      "source": [
        "#import dask.dataframe as dd\n",
        "import numpy as np\n",
        "import pandas as pd\n",
        "\n",
        "#from dask.diagnostics import ProgressBar\n",
        "#ProgressBar().register()\n",
        "\n",
        "import nltk\n",
        "import re\n",
        "import string\n",
        "import time\n",
        "import csv\n",
        "from tqdm import tqdm\n",
        "\n",
        "nltk.download('stopwords')\n",
        "from nltk.corpus import stopwords\n",
        "cachedStopWords = stopwords.words(\"english\")"
      ]
    },
    {
      "cell_type": "code",
      "execution_count": null,
      "metadata": {
        "id": "043c3m8rJJyn"
      },
      "outputs": [],
      "source": [
        "## If you are using the data by mounting the google drive, use the following :\n",
        "# from google.colab import drive\n",
        "# drive.mount('/content/gdrive',  force_remount=False)\n",
        "\n",
        "# %cd /content/gdrive/MyDrive/FinalThesis/Bitcoin_Datasets/"
      ]
    },
    {
      "cell_type": "code",
      "execution_count": null,
      "metadata": {
        "colab": {
          "base_uri": "https://localhost:8080/"
        },
        "id": "pVVLLIdRJWhh",
        "outputId": "e74cae2c-db29-4486-82d4-8c2cf61ccf19"
      },
      "outputs": [
        {
          "name": "stderr",
          "output_type": "stream",
          "text": [
            "/tmp/ipykernel_259/4093008141.py:3: DtypeWarning: Columns (12) have mixed types. Specify dtype option on import or set low_memory=False.\n",
            "  tweet_raw= pd.read_csv(\"Bitcoin_tweets.csv\", encoding = 'utf8')\n"
          ]
        },
        {
          "name": "stdout",
          "output_type": "stream",
          "text": [
            "Time taken to load Twitter Data: 10.306974649429321\n"
          ]
        }
      ],
      "source": [
        "#Load Twitter Dataset\n",
        "start = time.time()\n",
        "tweet_raw= pd.read_csv(\"Bitcoin_tweets.csv\", encoding = 'utf8')\n",
        "t = time.time() - start\n",
        "print('Time taken to load Twitter Data:',t)"
      ]
    },
    {
      "cell_type": "code",
      "execution_count": null,
      "metadata": {
        "id": "AKtUlkZ1MOkm"
      },
      "outputs": [],
      "source": [
        "text_data = tweet_raw.drop(columns= ['user_name','user_location','user_description','user_created','user_followers','user_friends','user_favourites','user_verified','is_retweet','hashtags','source'])"
      ]
    },
    {
      "cell_type": "code",
      "execution_count": null,
      "metadata": {
        "id": "V4lkRNN4EGzo",
        "outputId": "659e5c84-0a6c-4423-dcd3-747a61dc620b"
      },
      "outputs": [
        {
          "data": {
            "text/plain": [
              "date    float64\n",
              "text     object\n",
              "dtype: object"
            ]
          },
          "execution_count": 69,
          "metadata": {},
          "output_type": "execute_result"
        }
      ],
      "source": [
        "text_data.dtypes"
      ]
    },
    {
      "cell_type": "code",
      "execution_count": null,
      "metadata": {
        "id": "stmfxqOYZaJD"
      },
      "outputs": [],
      "source": [
        "text_data['date_time'] = pd.to_datetime(text_data['date'], unit='d', origin='1899-12-30')\n",
        "text_data  = text_data.astype({\"text\": \"string\"})"
      ]
    },
    {
      "cell_type": "code",
      "execution_count": null,
      "metadata": {
        "colab": {
          "base_uri": "https://localhost:8080/"
        },
        "id": "d_KHj_2tkBl5",
        "outputId": "390966cc-fb70-41a6-b53f-296f5e48272e"
      },
      "outputs": [
        {
          "data": {
            "text/plain": [
              "date                float64\n",
              "text                 string\n",
              "date_time    datetime64[ns]\n",
              "dtype: object"
            ]
          },
          "execution_count": 71,
          "metadata": {},
          "output_type": "execute_result"
        }
      ],
      "source": [
        "text_data.dtypes"
      ]
    },
    {
      "cell_type": "code",
      "execution_count": null,
      "metadata": {
        "id": "fF0NtBwzEGzp"
      },
      "outputs": [],
      "source": [
        "text_data = text_data.drop('date', axis = 1)"
      ]
    },
    {
      "cell_type": "code",
      "execution_count": null,
      "metadata": {
        "colab": {
          "base_uri": "https://localhost:8080/",
          "height": 380
        },
        "id": "PqCusAqFLYML",
        "outputId": "3e7350be-8a1b-4956-a312-da0408ca03f9"
      },
      "outputs": [
        {
          "data": {
            "text/html": [
              "<div>\n",
              "<style scoped>\n",
              "    .dataframe tbody tr th:only-of-type {\n",
              "        vertical-align: middle;\n",
              "    }\n",
              "\n",
              "    .dataframe tbody tr th {\n",
              "        vertical-align: top;\n",
              "    }\n",
              "\n",
              "    .dataframe thead th {\n",
              "        text-align: right;\n",
              "    }\n",
              "</style>\n",
              "<table border=\"1\" class=\"dataframe\">\n",
              "  <thead>\n",
              "    <tr style=\"text-align: right;\">\n",
              "      <th></th>\n",
              "      <th>text</th>\n",
              "      <th>date_time</th>\n",
              "    </tr>\n",
              "  </thead>\n",
              "  <tbody>\n",
              "    <tr>\n",
              "      <th>0</th>\n",
              "      <td>Blue Ridge Bank shares halted by NYSE after #b...</td>\n",
              "      <td>2021-02-10 23:59:04.000003840</td>\n",
              "    </tr>\n",
              "    <tr>\n",
              "      <th>1</th>\n",
              "      <td>😎 Today, that's this #Thursday, we will do a \"...</td>\n",
              "      <td>2021-02-10 23:58:48.000002560</td>\n",
              "    </tr>\n",
              "    <tr>\n",
              "      <th>2</th>\n",
              "      <td>Guys evening, I have read this article about B...</td>\n",
              "      <td>2021-02-10 23:54:48.000001280</td>\n",
              "    </tr>\n",
              "    <tr>\n",
              "      <th>3</th>\n",
              "      <td>$BTC A big chance in a billion! Price: \\487264...</td>\n",
              "      <td>2021-02-10 23:54:33.000002048</td>\n",
              "    </tr>\n",
              "    <tr>\n",
              "      <th>4</th>\n",
              "      <td>This network is secured by 9 508 nodes as of t...</td>\n",
              "      <td>2021-02-10 23:54:06.000002048</td>\n",
              "    </tr>\n",
              "    <tr>\n",
              "      <th>5</th>\n",
              "      <td>💹 Trade #Crypto on #Binance \n",
              "\n",
              "📌 Enjoy #Cashbac...</td>\n",
              "      <td>2021-02-10 23:53:29.999998720</td>\n",
              "    </tr>\n",
              "    <tr>\n",
              "      <th>6</th>\n",
              "      <td>&amp;lt;'fire' &amp;amp; 'man'&amp;gt;\n",
              "#Bitcoin #Crypto #B...</td>\n",
              "      <td>2021-02-10 23:53:16.999995648</td>\n",
              "    </tr>\n",
              "    <tr>\n",
              "      <th>7</th>\n",
              "      <td>🔄 Prices update in $EUR (1 hour):\n",
              "\n",
              "$BTC   - 37...</td>\n",
              "      <td>2021-02-10 23:52:42.000003840</td>\n",
              "    </tr>\n",
              "    <tr>\n",
              "      <th>8</th>\n",
              "      <td>#BTC #Bitcoin #Ethereum #ETH #Crypto #cryptotr...</td>\n",
              "      <td>2021-02-10 23:52:25.000000512</td>\n",
              "    </tr>\n",
              "    <tr>\n",
              "      <th>9</th>\n",
              "      <td>.@Tesla’s #bitcoin investment is revolutionary...</td>\n",
              "      <td>2021-02-10 23:52:07.999996416</td>\n",
              "    </tr>\n",
              "  </tbody>\n",
              "</table>\n",
              "</div>"
            ],
            "text/plain": [
              "                                                text  \\\n",
              "0  Blue Ridge Bank shares halted by NYSE after #b...   \n",
              "1  😎 Today, that's this #Thursday, we will do a \"...   \n",
              "2  Guys evening, I have read this article about B...   \n",
              "3  $BTC A big chance in a billion! Price: \\487264...   \n",
              "4  This network is secured by 9 508 nodes as of t...   \n",
              "5  💹 Trade #Crypto on #Binance \n",
              "\n",
              "📌 Enjoy #Cashbac...   \n",
              "6  &lt;'fire' &amp; 'man'&gt;\n",
              "#Bitcoin #Crypto #B...   \n",
              "7  🔄 Prices update in $EUR (1 hour):\n",
              "\n",
              "$BTC   - 37...   \n",
              "8  #BTC #Bitcoin #Ethereum #ETH #Crypto #cryptotr...   \n",
              "9  .@Tesla’s #bitcoin investment is revolutionary...   \n",
              "\n",
              "                      date_time  \n",
              "0 2021-02-10 23:59:04.000003840  \n",
              "1 2021-02-10 23:58:48.000002560  \n",
              "2 2021-02-10 23:54:48.000001280  \n",
              "3 2021-02-10 23:54:33.000002048  \n",
              "4 2021-02-10 23:54:06.000002048  \n",
              "5 2021-02-10 23:53:29.999998720  \n",
              "6 2021-02-10 23:53:16.999995648  \n",
              "7 2021-02-10 23:52:42.000003840  \n",
              "8 2021-02-10 23:52:25.000000512  \n",
              "9 2021-02-10 23:52:07.999996416  "
            ]
          },
          "execution_count": 73,
          "metadata": {},
          "output_type": "execute_result"
        }
      ],
      "source": [
        "text_data.head(10)"
      ]
    },
    {
      "cell_type": "markdown",
      "metadata": {
        "id": "5_MEbp12kRx4"
      },
      "source": [
        "# Data Cleaning\n",
        "\n",
        "a)\tConvert tweets to lowercase. D\n",
        "\n",
        "b)\tExpand words with contractions.\n",
        "\n",
        "c)\tRemoved duplicate tweets based on unique id. NA\n",
        "\n",
        "d)\tRemove stopwords from the tweet. D\n",
        "\n",
        "e)\tRemove punctuation and special characters. D\n",
        "\n",
        "f)\tRemove user mentions that are a word starting with the @ sign. D\n",
        "\n",
        "g)\tReplace over 2 dots and multiple spaces with a single space. D\n",
        "\n",
        "h)\tRemove dollar symbols from the text like $BTC and $Bitcoin. D\n",
        "\n",
        "i)\tRemove the hashtag sign from the text. D\n",
        "\n",
        "j)\tRemove non-English tweets. D\n",
        "\n",
        "k)\tRemove URLs from tweets. D\n",
        "  "
      ]
    },
    {
      "cell_type": "code",
      "execution_count": null,
      "metadata": {
        "id": "UoixgjqukJl5"
      },
      "outputs": [],
      "source": [
        "def clean_text_data(tweet):\n",
        "  # Transform to lower case\n",
        "  tweet = tweet.lower()\n",
        "  #Remove url, square and round brackets, mentions\n",
        "  tweet = re.sub(r\"(http[s]?\\://\\S+)|([\\[\\(].*[\\)\\]])|([@]\\S+)\", \"\",tweet)\n",
        "  #Remove numbers\n",
        "  tweet = re.sub(r'\\d', '', tweet) #reconsider this step\n",
        "  #Remove stop words\n",
        "  tweet = ' '.join([word for word in tweet.split() if word not in cachedStopWords  and  word.isascii()])\n",
        "  #Remove Punctuations\n",
        "  tweet = tweet.translate(str.maketrans('', '','!\"#$%&.\\'()*+,-/:;<=>?@[\\]^_`{|}~'))\n",
        "  #Remove extra spaces\n",
        "  tweet = re.sub('[\\s]+', ' ', tweet)\n",
        "\n",
        "  return tweet"
      ]
    },
    {
      "cell_type": "code",
      "execution_count": null,
      "metadata": {
        "id": "JOPYARplDTs7"
      },
      "outputs": [],
      "source": [
        "#print (clean_text_data('Blue Ridge Bank shares ------- halted by NYSE  ~ after #bitcoin .......ATM announcement https://t.co/xaaZmaJKiV @MyBlueRidgeBank… https://t.co/sgBxMkP1SI'))"
      ]
    },
    {
      "cell_type": "code",
      "execution_count": null,
      "metadata": {
        "id": "6KA9n8Eg4gZ-"
      },
      "outputs": [],
      "source": [
        "#text_data = text_data.head(20000)"
      ]
    },
    {
      "cell_type": "code",
      "execution_count": null,
      "metadata": {
        "id": "vae6xykSEGzs",
        "outputId": "8cae4df8-57fe-492a-c1b8-48f96448e223"
      },
      "outputs": [
        {
          "data": {
            "text/plain": [
              "(1048570, 2)"
            ]
          },
          "execution_count": 78,
          "metadata": {},
          "output_type": "execute_result"
        }
      ],
      "source": [
        "text_data.shape"
      ]
    },
    {
      "cell_type": "code",
      "execution_count": null,
      "metadata": {
        "id": "6iqKEexdlV5-"
      },
      "outputs": [],
      "source": [
        "text_data = text_data.dropna()"
      ]
    },
    {
      "cell_type": "code",
      "execution_count": null,
      "metadata": {
        "id": "oO_a0luhEGzt",
        "outputId": "bfb8a3d5-c00d-4908-8763-22962b02f301"
      },
      "outputs": [
        {
          "data": {
            "text/plain": [
              "(1048570, 2)"
            ]
          },
          "execution_count": 80,
          "metadata": {},
          "output_type": "execute_result"
        }
      ],
      "source": [
        "text_data.shape"
      ]
    },
    {
      "cell_type": "code",
      "execution_count": null,
      "metadata": {
        "colab": {
          "base_uri": "https://localhost:8080/"
        },
        "id": "qBqZNslJmFal",
        "outputId": "3a96912d-f1aa-4c90-f1ef-a190cd7dc48f"
      },
      "outputs": [
        {
          "name": "stderr",
          "output_type": "stream",
          "text": [
            "Cleaning Data........: 100%|██████████| 1048570/1048570 [01:17<00:00, 13449.04it/s]"
          ]
        },
        {
          "name": "stdout",
          "output_type": "stream",
          "text": [
            "Time taken to clean textual data: 78.06545281410217\n"
          ]
        },
        {
          "name": "stderr",
          "output_type": "stream",
          "text": [
            "\n"
          ]
        }
      ],
      "source": [
        "start = time.time()\n",
        "tqdm.pandas(desc=\"Cleaning Data........\")\n",
        "text_data[\"clean_text\"] = text_data.text.progress_apply(lambda x: clean_text_data(x))\n",
        "t = time.time() - start\n",
        "print(\"Time taken to clean textual data:\",t)"
      ]
    },
    {
      "cell_type": "code",
      "execution_count": null,
      "metadata": {
        "colab": {
          "base_uri": "https://localhost:8080/",
          "height": 380
        },
        "id": "swdE_mWV5joo",
        "outputId": "9857562a-f1ff-4e8c-ad52-e5575aa8d63f"
      },
      "outputs": [
        {
          "data": {
            "text/html": [
              "<div>\n",
              "<style scoped>\n",
              "    .dataframe tbody tr th:only-of-type {\n",
              "        vertical-align: middle;\n",
              "    }\n",
              "\n",
              "    .dataframe tbody tr th {\n",
              "        vertical-align: top;\n",
              "    }\n",
              "\n",
              "    .dataframe thead th {\n",
              "        text-align: right;\n",
              "    }\n",
              "</style>\n",
              "<table border=\"1\" class=\"dataframe\">\n",
              "  <thead>\n",
              "    <tr style=\"text-align: right;\">\n",
              "      <th></th>\n",
              "      <th>date_time</th>\n",
              "      <th>clean_text</th>\n",
              "    </tr>\n",
              "  </thead>\n",
              "  <tbody>\n",
              "    <tr>\n",
              "      <th>0</th>\n",
              "      <td>2021-02-10 23:59:04.000003840</td>\n",
              "      <td>blue ridge bank shares halted nyse bitcoin atm...</td>\n",
              "    </tr>\n",
              "    <tr>\n",
              "      <th>1</th>\n",
              "      <td>2021-02-10 23:58:48.000002560</td>\n",
              "      <td>today thats thursday take friend btc wallet se...</td>\n",
              "    </tr>\n",
              "    <tr>\n",
              "      <th>2</th>\n",
              "      <td>2021-02-10 23:54:48.000001280</td>\n",
              "      <td>guys evening read article btc would like share</td>\n",
              "    </tr>\n",
              "    <tr>\n",
              "      <th>3</th>\n",
              "      <td>2021-02-10 23:54:33.000002048</td>\n",
              "      <td>btc big chance billion price bitcoin fx btc cr...</td>\n",
              "    </tr>\n",
              "    <tr>\n",
              "      <th>4</th>\n",
              "      <td>2021-02-10 23:54:06.000002048</td>\n",
              "      <td>network secured nodes today soon biggest bears...</td>\n",
              "    </tr>\n",
              "    <tr>\n",
              "      <th>5</th>\n",
              "      <td>2021-02-10 23:53:29.999998720</td>\n",
              "      <td>trade crypto binance enjoy cashback trading fe...</td>\n",
              "    </tr>\n",
              "    <tr>\n",
              "      <th>6</th>\n",
              "      <td>2021-02-10 23:53:16.999995648</td>\n",
              "      <td>ltfire amp mangt bitcoin crypto btc</td>\n",
              "    </tr>\n",
              "    <tr>\n",
              "      <th>7</th>\n",
              "      <td>2021-02-10 23:52:42.000003840</td>\n",
              "      <td>prices update eur btc eth xrp</td>\n",
              "    </tr>\n",
              "    <tr>\n",
              "      <th>8</th>\n",
              "      <td>2021-02-10 23:52:25.000000512</td>\n",
              "      <td>btc bitcoin ethereum eth crypto cryptotrading ...</td>\n",
              "    </tr>\n",
              "    <tr>\n",
              "      <th>9</th>\n",
              "      <td>2021-02-10 23:52:07.999996416</td>\n",
              "      <td>bitcoin investment revolutionary crypto firms...</td>\n",
              "    </tr>\n",
              "  </tbody>\n",
              "</table>\n",
              "</div>"
            ],
            "text/plain": [
              "                      date_time  \\\n",
              "0 2021-02-10 23:59:04.000003840   \n",
              "1 2021-02-10 23:58:48.000002560   \n",
              "2 2021-02-10 23:54:48.000001280   \n",
              "3 2021-02-10 23:54:33.000002048   \n",
              "4 2021-02-10 23:54:06.000002048   \n",
              "5 2021-02-10 23:53:29.999998720   \n",
              "6 2021-02-10 23:53:16.999995648   \n",
              "7 2021-02-10 23:52:42.000003840   \n",
              "8 2021-02-10 23:52:25.000000512   \n",
              "9 2021-02-10 23:52:07.999996416   \n",
              "\n",
              "                                          clean_text  \n",
              "0  blue ridge bank shares halted nyse bitcoin atm...  \n",
              "1  today thats thursday take friend btc wallet se...  \n",
              "2    guys evening read article btc would like share   \n",
              "3  btc big chance billion price bitcoin fx btc cr...  \n",
              "4  network secured nodes today soon biggest bears...  \n",
              "5  trade crypto binance enjoy cashback trading fe...  \n",
              "6                ltfire amp mangt bitcoin crypto btc  \n",
              "7                     prices update eur btc eth xrp   \n",
              "8  btc bitcoin ethereum eth crypto cryptotrading ...  \n",
              "9   bitcoin investment revolutionary crypto firms...  "
            ]
          },
          "execution_count": 85,
          "metadata": {},
          "output_type": "execute_result"
        }
      ],
      "source": [
        "text_data.head(10)"
      ]
    },
    {
      "cell_type": "code",
      "execution_count": null,
      "metadata": {
        "id": "IUCvEZeD7G8Z"
      },
      "outputs": [],
      "source": [
        "text_data = text_data[['date_time','clean_text']]"
      ]
    },
    {
      "cell_type": "code",
      "execution_count": null,
      "metadata": {
        "id": "oScohFk9iAZx"
      },
      "outputs": [],
      "source": [
        "clean_data = text_data.dropna()"
      ]
    },
    {
      "cell_type": "code",
      "execution_count": null,
      "metadata": {
        "id": "Q-Z2NSUBEGzu",
        "outputId": "2d3f0c76-0aa9-4880-b437-453573d71b2a"
      },
      "outputs": [
        {
          "data": {
            "text/plain": [
              "(1048570, 2)"
            ]
          },
          "execution_count": 88,
          "metadata": {},
          "output_type": "execute_result"
        }
      ],
      "source": [
        "clean_data.shape"
      ]
    },
    {
      "cell_type": "code",
      "execution_count": null,
      "metadata": {
        "id": "0uX7D_k9EGzu"
      },
      "outputs": [],
      "source": [
        "clean_data['date_time'] = clean_data['date_time'].dt.strftime('%Y-%m-%d %H:%M:%S')"
      ]
    },
    {
      "cell_type": "code",
      "execution_count": null,
      "metadata": {
        "id": "pXXvB6gMEGzu",
        "outputId": "f0afd723-3195-4917-fbf4-865596fd49d0"
      },
      "outputs": [
        {
          "data": {
            "text/html": [
              "<div>\n",
              "<style scoped>\n",
              "    .dataframe tbody tr th:only-of-type {\n",
              "        vertical-align: middle;\n",
              "    }\n",
              "\n",
              "    .dataframe tbody tr th {\n",
              "        vertical-align: top;\n",
              "    }\n",
              "\n",
              "    .dataframe thead th {\n",
              "        text-align: right;\n",
              "    }\n",
              "</style>\n",
              "<table border=\"1\" class=\"dataframe\">\n",
              "  <thead>\n",
              "    <tr style=\"text-align: right;\">\n",
              "      <th></th>\n",
              "      <th>date_time</th>\n",
              "      <th>clean_text</th>\n",
              "    </tr>\n",
              "  </thead>\n",
              "  <tbody>\n",
              "    <tr>\n",
              "      <th>0</th>\n",
              "      <td>2021-02-10 23:59:04</td>\n",
              "      <td>blue ridge bank shares halted nyse bitcoin atm...</td>\n",
              "    </tr>\n",
              "    <tr>\n",
              "      <th>1</th>\n",
              "      <td>2021-02-10 23:58:48</td>\n",
              "      <td>today thats thursday take friend btc wallet se...</td>\n",
              "    </tr>\n",
              "    <tr>\n",
              "      <th>2</th>\n",
              "      <td>2021-02-10 23:54:48</td>\n",
              "      <td>guys evening read article btc would like share</td>\n",
              "    </tr>\n",
              "    <tr>\n",
              "      <th>3</th>\n",
              "      <td>2021-02-10 23:54:33</td>\n",
              "      <td>btc big chance billion price bitcoin fx btc cr...</td>\n",
              "    </tr>\n",
              "    <tr>\n",
              "      <th>4</th>\n",
              "      <td>2021-02-10 23:54:06</td>\n",
              "      <td>network secured nodes today soon biggest bears...</td>\n",
              "    </tr>\n",
              "    <tr>\n",
              "      <th>5</th>\n",
              "      <td>2021-02-10 23:53:29</td>\n",
              "      <td>trade crypto binance enjoy cashback trading fe...</td>\n",
              "    </tr>\n",
              "    <tr>\n",
              "      <th>6</th>\n",
              "      <td>2021-02-10 23:53:16</td>\n",
              "      <td>ltfire amp mangt bitcoin crypto btc</td>\n",
              "    </tr>\n",
              "    <tr>\n",
              "      <th>7</th>\n",
              "      <td>2021-02-10 23:52:42</td>\n",
              "      <td>prices update eur btc eth xrp</td>\n",
              "    </tr>\n",
              "    <tr>\n",
              "      <th>8</th>\n",
              "      <td>2021-02-10 23:52:25</td>\n",
              "      <td>btc bitcoin ethereum eth crypto cryptotrading ...</td>\n",
              "    </tr>\n",
              "    <tr>\n",
              "      <th>9</th>\n",
              "      <td>2021-02-10 23:52:07</td>\n",
              "      <td>bitcoin investment revolutionary crypto firms...</td>\n",
              "    </tr>\n",
              "  </tbody>\n",
              "</table>\n",
              "</div>"
            ],
            "text/plain": [
              "             date_time                                         clean_text\n",
              "0  2021-02-10 23:59:04  blue ridge bank shares halted nyse bitcoin atm...\n",
              "1  2021-02-10 23:58:48  today thats thursday take friend btc wallet se...\n",
              "2  2021-02-10 23:54:48    guys evening read article btc would like share \n",
              "3  2021-02-10 23:54:33  btc big chance billion price bitcoin fx btc cr...\n",
              "4  2021-02-10 23:54:06  network secured nodes today soon biggest bears...\n",
              "5  2021-02-10 23:53:29  trade crypto binance enjoy cashback trading fe...\n",
              "6  2021-02-10 23:53:16                ltfire amp mangt bitcoin crypto btc\n",
              "7  2021-02-10 23:52:42                     prices update eur btc eth xrp \n",
              "8  2021-02-10 23:52:25  btc bitcoin ethereum eth crypto cryptotrading ...\n",
              "9  2021-02-10 23:52:07   bitcoin investment revolutionary crypto firms..."
            ]
          },
          "execution_count": 90,
          "metadata": {},
          "output_type": "execute_result"
        }
      ],
      "source": [
        "clean_data.head(10)"
      ]
    },
    {
      "cell_type": "code",
      "execution_count": null,
      "metadata": {
        "colab": {
          "base_uri": "https://localhost:8080/"
        },
        "id": "eeghiDhT7HH3",
        "outputId": "9ce0d97e-3735-444e-b96b-122c7004df3c"
      },
      "outputs": [
        {
          "name": "stdout",
          "output_type": "stream",
          "text": [
            "clean_data_20-01-2024.csv\n"
          ]
        }
      ],
      "source": [
        "today_date = time.strftime(\"%d-%m-%Y\")\n",
        "excel_filename = \"clean_data_\"+today_date +\".csv\"\n",
        "print(excel_filename)\n",
        "clean_data.to_csv(excel_filename, index=False, header=True)"
      ]
    }
  ],
  "metadata": {
    "accelerator": "TPU",
    "colab": {
      "provenance": []
    },
    "kernelspec": {
      "display_name": "Python 3 (ipykernel)",
      "language": "python",
      "name": "python3"
    },
    "language_info": {
      "codemirror_mode": {
        "name": "ipython",
        "version": 3
      },
      "file_extension": ".py",
      "mimetype": "text/x-python",
      "name": "python",
      "nbconvert_exporter": "python",
      "pygments_lexer": "ipython3",
      "version": "3.8.12"
    }
  },
  "nbformat": 4,
  "nbformat_minor": 0
}